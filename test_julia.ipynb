{
 "cells": [
  {
   "attachments": {},
   "cell_type": "markdown",
   "metadata": {},
   "source": [
    "# Test Julia Objectives\n",
    "\n",
    "- [x] Run tool chain inside Docker container\n",
    "- [x] Get dplyr like chaining\n",
    "- [x] ggplot2 like plotting\n",
    "- [x] Read csv file\n",
    "- [ ] Read Excel file\n",
    "- [x] Make histogram\n",
    "- [x] Make timeseries plot\n",
    "- [ ] Make pairplot\n",
    "- [x] create heatmap with correlations between temp and rain\n",
    "- [ ] Perform multiple linear regression\n",
    "- [ ] Run Gradient Boosting Machine\n",
    "- [ ] Run some Neural nets"
   ]
  },
  {
   "attachments": {},
   "cell_type": "markdown",
   "metadata": {},
   "source": [
    "# Read CSV file from disk\n",
    "The following code chains the filename into `CSV.File` before converting it to a `DataFrame`. Note that the [date column needs to be explicitely set to Date type](https://discourse.julialang.org/t/csv-dateformat/47480) from the default int. Otherwise the format string passed via `dateformat` will not accurately convert the date. "
   ]
  },
  {
   "cell_type": "code",
   "execution_count": 14,
   "metadata": {},
   "outputs": [],
   "source": [
    "using StatsKit, DataFramesMeta, Dates, Gadfly"
   ]
  },
  {
   "cell_type": "code",
   "execution_count": 2,
   "metadata": {},
   "outputs": [
    {
     "data": {
      "text/html": [
       "<div><div style = \"float: left;\"><span>5×6 DataFrame</span></div><div style = \"clear: both;\"></div></div><div class = \"data-frame\" style = \"overflow-x: scroll;\"><table class = \"data-frame\" style = \"margin-bottom: 6px;\"><thead><tr class = \"header\"><th class = \"rowNumber\" style = \"font-weight: bold; text-align: right;\">Row</th><th style = \"text-align: left;\">station</th><th style = \"text-align: left;\">date</th><th style = \"text-align: left;\">T_avg</th><th style = \"text-align: left;\">T_min</th><th style = \"text-align: left;\">T_max</th><th style = \"text-align: left;\">rain</th></tr><tr class = \"subheader headerLastRow\"><th class = \"rowNumber\" style = \"font-weight: bold; text-align: right;\"></th><th title = \"Int64\" style = \"text-align: left;\">Int64</th><th title = \"Date\" style = \"text-align: left;\">Date</th><th title = \"Int64\" style = \"text-align: left;\">Int64</th><th title = \"Int64\" style = \"text-align: left;\">Int64</th><th title = \"Int64\" style = \"text-align: left;\">Int64</th><th title = \"Int64\" style = \"text-align: left;\">Int64</th></tr></thead><tbody><tr><td class = \"rowNumber\" style = \"font-weight: bold; text-align: right;\">1</td><td style = \"text-align: right;\">278</td><td style = \"text-align: left;\">2011-02-01</td><td style = \"text-align: right;\">-18</td><td style = \"text-align: right;\">-38</td><td style = \"text-align: right;\">11</td><td style = \"text-align: right;\">15</td></tr><tr><td class = \"rowNumber\" style = \"font-weight: bold; text-align: right;\">2</td><td style = \"text-align: right;\">278</td><td style = \"text-align: left;\">2011-02-02</td><td style = \"text-align: right;\">29</td><td style = \"text-align: right;\">11</td><td style = \"text-align: right;\">40</td><td style = \"text-align: right;\">3</td></tr><tr><td class = \"rowNumber\" style = \"font-weight: bold; text-align: right;\">3</td><td style = \"text-align: right;\">278</td><td style = \"text-align: left;\">2011-02-03</td><td style = \"text-align: right;\">52</td><td style = \"text-align: right;\">30</td><td style = \"text-align: right;\">80</td><td style = \"text-align: right;\">14</td></tr><tr><td class = \"rowNumber\" style = \"font-weight: bold; text-align: right;\">4</td><td style = \"text-align: right;\">278</td><td style = \"text-align: left;\">2011-02-04</td><td style = \"text-align: right;\">90</td><td style = \"text-align: right;\">61</td><td style = \"text-align: right;\">109</td><td style = \"text-align: right;\">16</td></tr><tr><td class = \"rowNumber\" style = \"font-weight: bold; text-align: right;\">5</td><td style = \"text-align: right;\">278</td><td style = \"text-align: left;\">2011-02-05</td><td style = \"text-align: right;\">114</td><td style = \"text-align: right;\">107</td><td style = \"text-align: right;\">120</td><td style = \"text-align: right;\">0</td></tr></tbody></table></div>"
      ],
      "text/latex": [
       "\\begin{tabular}{r|cccccc}\n",
       "\t& station & date & T\\_avg & T\\_min & T\\_max & rain\\\\\n",
       "\t\\hline\n",
       "\t& Int64 & Date & Int64 & Int64 & Int64 & Int64\\\\\n",
       "\t\\hline\n",
       "\t1 & 278 & 2011-02-01 & -18 & -38 & 11 & 15 \\\\\n",
       "\t2 & 278 & 2011-02-02 & 29 & 11 & 40 & 3 \\\\\n",
       "\t3 & 278 & 2011-02-03 & 52 & 30 & 80 & 14 \\\\\n",
       "\t4 & 278 & 2011-02-04 & 90 & 61 & 109 & 16 \\\\\n",
       "\t5 & 278 & 2011-02-05 & 114 & 107 & 120 & 0 \\\\\n",
       "\\end{tabular}\n"
      ],
      "text/plain": [
       "\u001b[1m5×6 DataFrame\n",
       "\u001b[1m Row │\u001b[1m station \u001b[1m date       \u001b[1m T_avg \u001b[1m T_min \u001b[1m T_max \u001b[1m rain\n",
       "     │\u001b[90m Int64   \u001b[90m Date       \u001b[90m Int64 \u001b[90m Int64 \u001b[90m Int64 \u001b[90m Int64\n",
       "─────┼─────────────────────────────────────────────────\n",
       "   1 │     278  2011-02-01    -18    -38     11     15\n",
       "   2 │     278  2011-02-02     29     11     40      3\n",
       "   3 │     278  2011-02-03     52     30     80     14\n",
       "   4 │     278  2011-02-04     90     61    109     16\n",
       "   5 │     278  2011-02-05    114    107    120      0"
      ]
     },
     "execution_count": 2,
     "metadata": {},
     "output_type": "execute_result"
    }
   ],
   "source": [
    "knmi_data = @chain \"knmi_data.txt\" begin\n",
    "    CSV.File(comment=\"#\", header=[\"station\", \"date\", \"T_avg\", \"T_min\", \"T_max\", \"rain\"], \n",
    "             dateformat=\"yyyymmdd\", types=Dict(:date => Date))   \n",
    "    DataFrame()\n",
    "end\n",
    "first(knmi_data, 5)"
   ]
  }
 ],
 "metadata": {
  "kernelspec": {
   "display_name": "Julia 1.8.5",
   "language": "julia",
   "name": "julia-1.8"
  },
  "language_info": {
   "file_extension": ".jl",
   "mimetype": "application/julia",
   "name": "julia",
   "version": "1.8.5"
  },
  "orig_nbformat": 4,
  "vscode": {
   "interpreter": {
    "hash": "8a5edab282632443219e051e4ade2d1d5bbc671c781051bf1437897cbdfea0f1"
   }
  }
 },
 "nbformat": 4,
 "nbformat_minor": 2
}
